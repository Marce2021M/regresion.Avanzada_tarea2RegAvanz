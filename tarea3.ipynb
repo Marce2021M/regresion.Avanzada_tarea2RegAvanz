{
 "cells": [
  {
   "attachments": {},
   "cell_type": "markdown",
   "metadata": {},
   "source": [
    "# Tarea 3\n",
    "\n",
    "### Marcelino Sánchez Rodríguez\n",
    "### 12 de marzo de 2023"
   ]
  },
  {
   "cell_type": "code",
   "execution_count": 2,
   "metadata": {
    "vscode": {
     "languageId": "r"
    }
   },
   "outputs": [
    {
     "name": "stderr",
     "output_type": "stream",
     "text": [
      "Loading required package: StanHeaders\n",
      "\n",
      "Loading required package: ggplot2\n",
      "\n",
      "rstan (Version 2.21.8, GitRev: 2e1f913d3ca3)\n",
      "\n",
      "For execution on a local, multicore CPU with excess RAM we recommend calling\n",
      "options(mc.cores = parallel::detectCores()).\n",
      "To avoid recompilation of unchanged Stan programs, we recommend calling\n",
      "rstan_options(auto_write = TRUE)\n",
      "\n",
      "\n",
      "Attaching package: ‘coda’\n",
      "\n",
      "\n",
      "The following object is masked from ‘package:rstan’:\n",
      "\n",
      "    traceplot\n",
      "\n",
      "\n",
      "Loading required package: rjags\n",
      "\n",
      "Linked to JAGS 4.3.0\n",
      "\n",
      "Loaded modules: basemod,bugs\n",
      "\n",
      "\n",
      "Attaching package: ‘R2jags’\n",
      "\n",
      "\n",
      "The following object is masked from ‘package:coda’:\n",
      "\n",
      "    traceplot\n",
      "\n",
      "\n",
      "The following object is masked from ‘package:rstan’:\n",
      "\n",
      "    traceplot\n",
      "\n",
      "\n"
     ]
    }
   ],
   "source": [
    "# Load necessary packages\n",
    "library(rstan)\n",
    "library(coda)\n",
    "library(R2jags)\n",
    "library(methods)\n",
    "\n",
    "# set the working directory\n",
    "\n",
    "setwd(\"/home/rstudio/tarea2RegAvanz\")\n",
    "\n",
    "#--- Funciones utiles ---\n",
    "prob<-function(x){\n",
    "  out<-min(length(x[x>0])/length(x),length(x[x<0])/length(x))\n",
    "  out\n",
    "}\n",
    "\n",
    "source(\"/home/rstudio/tarea2RegAvanz/claseNietor6.R\")"
   ]
  },
  {
   "attachments": {},
   "cell_type": "markdown",
   "metadata": {},
   "source": [
    "## Configuramos para comparar los distintos modelos"
   ]
  },
  {
   "cell_type": "code",
   "execution_count": 3,
   "metadata": {
    "vscode": {
     "languageId": "r"
    }
   },
   "outputs": [
    {
     "name": "stderr",
     "output_type": "stream",
     "text": [
      "Warning message in file(file, \"rt\"):\n",
      "“URL 'http://gente.itam.mx/lnieto/index_archivos/desastres.txt': status was 'Couldn't resolve host name'”\n"
     ]
    },
    {
     "ename": "ERROR",
     "evalue": "Error in file(file, \"rt\"): cannot open the connection to 'http://gente.itam.mx/lnieto/index_archivos/desastres.txt'\n",
     "output_type": "error",
     "traceback": [
      "Error in file(file, \"rt\"): cannot open the connection to 'http://gente.itam.mx/lnieto/index_archivos/desastres.txt'\nTraceback:\n",
      "1. read.table(\"http://gente.itam.mx/lnieto/index_archivos/desastres.txt\", \n .     header = TRUE)",
      "2. file(file, \"rt\")"
     ]
    }
   ],
   "source": [
    "#-Reading data-\n",
    "desastres<-read.table(\"http://gente.itam.mx/lnieto/index_archivos/desastres.txt\",header=TRUE)\n",
    "n<-nrow(desastres)\n",
    "plot(desastres,type=\"l\")\n",
    "plot(desastres[2:n,2]-desastres[1:(n-1),2],type=\"l\")\n",
    "\n",
    "#-Defining data-\n",
    "data<-list(\"n\"=n,\"y\"=desastres$No.Desastres,\"x\"=desastres$Anho)\n",
    "data2<-list(\"n\"=n,\"y\"=c(desastres$No.Desastres[1:(n-6)],rep(NA,6)),\"x\"=desastres$Anho)\n",
    "data3<-list(\"n\"=n,\"y\"=desastres$No.Desastres+0.1,\"x\"=desastres$Anho/1000)\n",
    "\n",
    "#-Defining inits-\n",
    "initsa1<-function(){list(beta=rep(0,2),yf1=rep(1,n))}\n",
    "initsa2<-function(){list(beta=rep(0,2),aux=1,yf1=rep(1,n))}\n",
    "initsa3<-function(){list(beta=rep(0,2),a=1,yf1=rep(1,n))}\n",
    "initsb1<-function(){list(beta=rep(0,2),aux2=1,yf1=rep(1,n))}\n",
    "initsb2<-function(){list(beta=rep(0,2),aux=1,aux2=1,yf1=rep(1,n))}\n",
    "initsb3<-function(){list(beta=rep(0,2),a=1,aux2=1,yf1=rep(1,n))}\n",
    "initsc<-function(){list(beta=rep(0,n),tau.b=1,yf1=rep(1,n))}\n",
    "initsd<-function(){list(mu=rep(1,n),tau.b=1,yf1=rep(1,n))}\n",
    "\n",
    "#-Selecting parameters to monitor-\n",
    "parsa1<-c(\"beta\",\"yf1\",\"mu\")\n",
    "parsa2<-c(\"beta\",\"yf1\",\"mu\",\"r\")\n",
    "parsa3<-c(\"beta\",\"yf1\",\"mu\",\"a\")\n",
    "parsb1<-c(\"beta\",\"yf1\",\"mu\",\"tau\")\n",
    "parsb2<-c(\"beta\",\"yf1\",\"mu\",\"tau\",\"r\")\n",
    "parsb3<-c(\"beta\",\"yf1\",\"mu\",\"tau\",\"a\")\n",
    "parscd<-c(\"tau.b\",\"yf1\",\"mu\")\n"
   ]
  },
  {
   "attachments": {},
   "cell_type": "markdown",
   "metadata": {},
   "source": [
    "# Modelo 1"
   ]
  },
  {
   "cell_type": "code",
   "execution_count": null,
   "metadata": {
    "vscode": {
     "languageId": "r"
    }
   },
   "outputs": [],
   "source": [
    "#corremos código\n",
    "\n",
    "modelCode1 <- 'model\n",
    "{\n",
    "#Likelihood\n",
    "for (i in 1:n) {\n",
    "#Poisson\n",
    "\ty[i] ~ dpois(mu[i])\n",
    "\tlog(mu[i])<-beta[1]+beta[2]*x[i]\n",
    "\t}\n",
    "#Priors \n",
    "for (j in 1:2) { beta[j] ~ dnorm(0,0.001) }\n",
    "\n",
    "#Prediction 1\n",
    "#Poisson\n",
    "for (i in 1:n) { yf1[i] ~ dpois(mu[i]) }\n",
    "\n",
    "}'\n",
    "\n",
    "ej6a1.sim <- jagsModel$new(data, initsa1, parsa1, modelCode1,n.thin=2, n.iter=10000, n.burnin=1000, n.chains=2)\n",
    "\n",
    "ej6a1.sim$runJagsModel()"
   ]
  },
  {
   "attachments": {},
   "cell_type": "markdown",
   "metadata": {},
   "source": [
    "## Checamos Convergencia"
   ]
  },
  {
   "cell_type": "code",
   "execution_count": null,
   "metadata": {
    "vscode": {
     "languageId": "r"
    }
   },
   "outputs": [],
   "source": [
    "ej6a1.sim$viewSpace()\n",
    "\n",
    "ej6a1.sim$graphConvergence()\n",
    "\n",
    "ej6a1.sim$summaryModel()\n",
    "\n",
    "ej6a1.sim$dicModelfunc()"
   ]
  },
  {
   "attachments": {},
   "cell_type": "markdown",
   "metadata": {},
   "source": [
    "## Analizamos modelo"
   ]
  },
  {
   "cell_type": "code",
   "execution_count": null,
   "metadata": {
    "vscode": {
     "languageId": "r"
    }
   },
   "outputs": [],
   "source": []
  }
 ],
 "metadata": {
  "kernelspec": {
   "display_name": "R",
   "language": "R",
   "name": "ir"
  },
  "language_info": {
   "codemirror_mode": "r",
   "file_extension": ".r",
   "mimetype": "text/x-r-source",
   "name": "R",
   "pygments_lexer": "r",
   "version": "4.2.2"
  },
  "orig_nbformat": 4
 },
 "nbformat": 4,
 "nbformat_minor": 2
}
